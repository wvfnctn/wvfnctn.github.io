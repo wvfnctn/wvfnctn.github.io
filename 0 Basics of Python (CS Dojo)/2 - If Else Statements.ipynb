{
 "cells": [
  {
   "cell_type": "code",
   "execution_count": null,
   "id": "fb4a74fe",
   "metadata": {},
   "outputs": [],
   "source": [
    "#it doesn't matter which line you type first. what matters is the order of execution"
   ]
  },
  {
   "cell_type": "code",
   "execution_count": 1,
   "id": "73a7547c",
   "metadata": {},
   "outputs": [
    {
     "name": "stdout",
     "output_type": "stream",
     "text": [
      "a is less than b\n",
      "not sure if a is less than b\n"
     ]
    }
   ],
   "source": [
    "a = 1\n",
    "b = 2\n",
    "if a < b: #this is an if clause\n",
    "    print(\"a is less than b\") #indent line with 4 spaces (convention). be consistent, or else there will be indentation error\n",
    "print(\"not sure if a is less than b\")\n",
    "#the if clause only apply to the line print(\"a is less than b\") because of the colon and the indentation"
   ]
  },
  {
   "cell_type": "code",
   "execution_count": 3,
   "id": "c1b363bc",
   "metadata": {},
   "outputs": [
    {
     "name": "stdout",
     "output_type": "stream",
     "text": [
      "a is less than b\n",
      "a is definitely less than b\n"
     ]
    }
   ],
   "source": [
    "#it's okay to have multiple lines in the if clause\n",
    "a = 1\n",
    "b = 2\n",
    "if a < b: \n",
    "    print(\"a is less than b\") \n",
    "    print(\"a is definitely less than b\")"
   ]
  },
  {
   "cell_type": "code",
   "execution_count": 6,
   "id": "7ea81e7b",
   "metadata": {},
   "outputs": [
    {
     "name": "stdout",
     "output_type": "stream",
     "text": [
      "c is NOT less than d\n",
      "i dont think c is less than d\n",
      "outside the if block\n"
     ]
    }
   ],
   "source": [
    "c = 5 \n",
    "d = 4\n",
    "if c < d:\n",
    "    print(\"c is less than d\")\n",
    "else:                                            #will only execute if the if clause is false. this is the else clause\n",
    "    print(\"c is NOT less than d\")\n",
    "    print(\"i dont think c is less than d\") \n",
    "print(\"outside the if block\")"
   ]
  },
  {
   "cell_type": "code",
   "execution_count": 7,
   "id": "d6c692c6",
   "metadata": {},
   "outputs": [
    {
     "name": "stdout",
     "output_type": "stream",
     "text": [
      "e is greater than f\n"
     ]
    }
   ],
   "source": [
    "e = 9\n",
    "f = 8\n",
    "#what if we want to deal with three cases? e < f, e > f and e = f ? add elif\n",
    "if e < f:\n",
    "    print(\"e is less than f\")\n",
    "elif e == f:  #single equal sign (assignment operator) - assigning the value of RHS to LHS . double equal sign if we want to check if e is equal to f.        \n",
    "    print(\"e is equal to f\")\n",
    "else:                                           \n",
    "    print(\"e is greater than f\")"
   ]
  },
  {
   "cell_type": "code",
   "execution_count": 13,
   "id": "eefd0ae1",
   "metadata": {},
   "outputs": [
    {
     "name": "stdout",
     "output_type": "stream",
     "text": [
      "g is greater than h by more than 10\n"
     ]
    }
   ],
   "source": [
    "#we can have multiple elif clauses\n",
    "g = 900\n",
    "h = 8\n",
    "if g < h:\n",
    "    print(\"g is less than h\")\n",
    "elif g == h:  \n",
    "    print(\"g is equal to h\")\n",
    "elif g > h+10:\n",
    "    print(\"g is greater than h by more than 10\")\n",
    "else:                                           \n",
    "    print(\"g is greater than h\")"
   ]
  },
  {
   "cell_type": "code",
   "execution_count": 12,
   "id": "719e6283",
   "metadata": {},
   "outputs": [
    {
     "name": "stdout",
     "output_type": "stream",
     "text": [
      "i is equal to j\n"
     ]
    }
   ],
   "source": [
    "#we can add if and else clauses within else clauses\n",
    "i = 8\n",
    "j = 8\n",
    "if i < j:\n",
    "    print(\"i is less than j\")\n",
    "else:\n",
    "    if i == j:\n",
    "        print(\"i is equal to j\")\n",
    "    else:\n",
    "        print(\"i is greater than j\")"
   ]
  },
  {
   "cell_type": "code",
   "execution_count": null,
   "id": "729c2ad5",
   "metadata": {},
   "outputs": [],
   "source": []
  }
 ],
 "metadata": {
  "kernelspec": {
   "display_name": "Python 3",
   "language": "python",
   "name": "python3"
  },
  "language_info": {
   "codemirror_mode": {
    "name": "ipython",
    "version": 3
   },
   "file_extension": ".py",
   "mimetype": "text/x-python",
   "name": "python",
   "nbconvert_exporter": "python",
   "pygments_lexer": "ipython3",
   "version": "3.8.8"
  }
 },
 "nbformat": 4,
 "nbformat_minor": 5
}
