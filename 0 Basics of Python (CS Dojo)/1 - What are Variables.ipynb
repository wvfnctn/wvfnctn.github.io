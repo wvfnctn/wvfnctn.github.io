{
 "cells": [
  {
   "cell_type": "code",
   "execution_count": 1,
   "id": "8771a6d2",
   "metadata": {},
   "outputs": [
    {
     "name": "stdout",
     "output_type": "stream",
     "text": [
      "Hello world\n"
     ]
    }
   ],
   "source": [
    "print(\"Hello world\") #prints string. \"Hello world\" is a string. Command is print the string."
   ]
  },
  {
   "cell_type": "code",
   "execution_count": 2,
   "id": "f703a77b",
   "metadata": {},
   "outputs": [
    {
     "name": "stdout",
     "output_type": "stream",
     "text": [
      "wtf\n"
     ]
    }
   ],
   "source": [
    "print('wtf') #we can use double quotes and single quotes interchangeably"
   ]
  },
  {
   "cell_type": "code",
   "execution_count": 3,
   "id": "bbd9c6e4",
   "metadata": {},
   "outputs": [
    {
     "name": "stdout",
     "output_type": "stream",
     "text": [
      "3\n"
     ]
    }
   ],
   "source": [
    "print(3) #number is different from string"
   ]
  },
  {
   "cell_type": "code",
   "execution_count": 4,
   "id": "fd4a9793",
   "metadata": {},
   "outputs": [
    {
     "name": "stdout",
     "output_type": "stream",
     "text": [
      "wtf\n",
      "3\n"
     ]
    }
   ],
   "source": [
    "print('wtf')\n",
    "print(3)\n",
    "#prints consecutively"
   ]
  },
  {
   "cell_type": "code",
   "execution_count": 5,
   "id": "9b4b2844",
   "metadata": {},
   "outputs": [],
   "source": [
    "a = 1 #assigns the value \"1\" to a variable \"a\""
   ]
  },
  {
   "cell_type": "code",
   "execution_count": 6,
   "id": "4ed1ba2f",
   "metadata": {},
   "outputs": [
    {
     "name": "stdout",
     "output_type": "stream",
     "text": [
      "1\n"
     ]
    }
   ],
   "source": [
    "print(a) #shows the value of variable. It doesnt need parentheses because \"a\" is a variable, not a string."
   ]
  },
  {
   "cell_type": "code",
   "execution_count": 7,
   "id": "44b60f99",
   "metadata": {},
   "outputs": [],
   "source": [
    "b = 2 #another variable"
   ]
  },
  {
   "cell_type": "code",
   "execution_count": 8,
   "id": "fea8d1d2",
   "metadata": {},
   "outputs": [],
   "source": [
    "c = \"hello there\" #a variable can refer to a string"
   ]
  },
  {
   "cell_type": "code",
   "execution_count": 9,
   "id": "1b4e57e3",
   "metadata": {},
   "outputs": [
    {
     "name": "stdout",
     "output_type": "stream",
     "text": [
      "hello there\n"
     ]
    }
   ],
   "source": [
    "print(c)"
   ]
  },
  {
   "cell_type": "code",
   "execution_count": 10,
   "id": "9cf77b58",
   "metadata": {},
   "outputs": [],
   "source": [
    "d = 2 # it is possible for two variables to refer to the same value"
   ]
  },
  {
   "cell_type": "code",
   "execution_count": 11,
   "id": "647a32d9",
   "metadata": {},
   "outputs": [],
   "source": [
    "b = 1 # we can reassign a new value for a variable. After reassignment, the variable refers to the most recent value. "
   ]
  },
  {
   "cell_type": "code",
   "execution_count": 12,
   "id": "ab50b23e",
   "metadata": {},
   "outputs": [
    {
     "name": "stdout",
     "output_type": "stream",
     "text": [
      "1\n"
     ]
    }
   ],
   "source": [
    "print(b)"
   ]
  },
  {
   "cell_type": "code",
   "execution_count": 15,
   "id": "f0b6dcbb",
   "metadata": {},
   "outputs": [
    {
     "name": "stdout",
     "output_type": "stream",
     "text": [
      "2\n"
     ]
    }
   ],
   "source": [
    "print(e) #if we use a variable that isn't defined yet, we will get an error"
   ]
  },
  {
   "cell_type": "code",
   "execution_count": 14,
   "id": "d3dfddbe",
   "metadata": {},
   "outputs": [],
   "source": [
    "e = 2\n",
    "#uncomment the value of e so we will not get an error on the previous line"
   ]
  },
  {
   "cell_type": "code",
   "execution_count": 16,
   "id": "df4f89ad",
   "metadata": {},
   "outputs": [],
   "source": [
    "f = a #f does not refer to a. Instead, \"f\" is referring to a value \"a\" is referring to"
   ]
  },
  {
   "cell_type": "code",
   "execution_count": 17,
   "id": "e8e1c553",
   "metadata": {},
   "outputs": [
    {
     "name": "stdout",
     "output_type": "stream",
     "text": [
      "1\n"
     ]
    }
   ],
   "source": [
    "print(f)"
   ]
  },
  {
   "cell_type": "code",
   "execution_count": 18,
   "id": "9d7361e9",
   "metadata": {},
   "outputs": [],
   "source": [
    "a = 2"
   ]
  },
  {
   "cell_type": "code",
   "execution_count": 19,
   "id": "ba2fb4cf",
   "metadata": {},
   "outputs": [
    {
     "name": "stdout",
     "output_type": "stream",
     "text": [
      "1\n",
      "2\n"
     ]
    }
   ],
   "source": [
    "print(f)\n",
    "print(a)\n",
    "#although \"a\" now refers to 2, \"f\" still refers to 1."
   ]
  },
  {
   "cell_type": "code",
   "execution_count": null,
   "id": "58a3c2b3",
   "metadata": {},
   "outputs": [],
   "source": []
  }
 ],
 "metadata": {
  "kernelspec": {
   "display_name": "Python 3",
   "language": "python",
   "name": "python3"
  },
  "language_info": {
   "codemirror_mode": {
    "name": "ipython",
    "version": 3
   },
   "file_extension": ".py",
   "mimetype": "text/x-python",
   "name": "python",
   "nbconvert_exporter": "python",
   "pygments_lexer": "ipython3",
   "version": "3.8.8"
  }
 },
 "nbformat": 4,
 "nbformat_minor": 5
}
