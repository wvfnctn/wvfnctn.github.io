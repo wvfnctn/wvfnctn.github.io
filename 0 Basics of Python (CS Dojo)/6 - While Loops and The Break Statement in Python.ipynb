{
 "cells": [
  {
   "cell_type": "code",
   "execution_count": 1,
   "id": "218be4ae",
   "metadata": {},
   "outputs": [
    {
     "name": "stdout",
     "output_type": "stream",
     "text": [
      "10\n"
     ]
    }
   ],
   "source": [
    "#recall for \"for loops\"\n",
    "total = 0\n",
    "for i in range(1,5):\n",
    "    total += i\n",
    "print(total)    "
   ]
  },
  {
   "cell_type": "code",
   "execution_count": 4,
   "id": "725b7b2f",
   "metadata": {},
   "outputs": [
    {
     "name": "stdout",
     "output_type": "stream",
     "text": [
      "10\n"
     ]
    }
   ],
   "source": [
    "#we can do the same thing in while loops\n",
    "total2 = 0\n",
    "j = 1 \n",
    "while j < 5: #it says that if j<5 is true, then do the following\n",
    "    total2 += j\n",
    "    j += 1 #after j=1, then j=2. it just means go to the next j\n",
    "print(total2)    "
   ]
  },
  {
   "cell_type": "code",
   "execution_count": 3,
   "id": "6a4f66f5",
   "metadata": {},
   "outputs": [
    {
     "name": "stdout",
     "output_type": "stream",
     "text": [
      "0\n"
     ]
    }
   ],
   "source": [
    "#observe that it won't do anything because the statement is false\n",
    "total3 = 0\n",
    "k = 5\n",
    "while k < 5:\n",
    "    total3 += k\n",
    "    k += 1\n",
    "print(total3)    "
   ]
  },
  {
   "cell_type": "code",
   "execution_count": 8,
   "id": "ab891279",
   "metadata": {},
   "outputs": [
    {
     "name": "stdout",
     "output_type": "stream",
     "text": [
      "17\n"
     ]
    }
   ],
   "source": [
    "#if we don't know how many loops we need beforehand, while loops are useful\n",
    "given_list = [5,4,4,3,1,-2,-3,-5]\n",
    "#what if we want to find the sum of all positive numbers only?\n",
    "total4 = 0 \n",
    "i = 0\n",
    "while given_list[i] > 0:\n",
    "    total4 += given_list[i]\n",
    "    i += 1 #after i=1, then i=2. it just means go to the next item in the list\n",
    "print(total4)    "
   ]
  },
  {
   "cell_type": "code",
   "execution_count": 11,
   "id": "056b515f",
   "metadata": {},
   "outputs": [
    {
     "ename": "IndexError",
     "evalue": "list index out of range",
     "output_type": "error",
     "traceback": [
      "\u001b[1;31m---------------------------------------------------------------------------\u001b[0m",
      "\u001b[1;31mIndexError\u001b[0m                                Traceback (most recent call last)",
      "\u001b[1;32m<ipython-input-11-444bf20aa748>\u001b[0m in \u001b[0;36m<module>\u001b[1;34m\u001b[0m\n\u001b[0;32m      3\u001b[0m \u001b[0mtotal5\u001b[0m \u001b[1;33m=\u001b[0m \u001b[1;36m0\u001b[0m\u001b[1;33m\u001b[0m\u001b[1;33m\u001b[0m\u001b[0m\n\u001b[0;32m      4\u001b[0m \u001b[0mi\u001b[0m \u001b[1;33m=\u001b[0m \u001b[1;36m0\u001b[0m\u001b[1;33m\u001b[0m\u001b[1;33m\u001b[0m\u001b[0m\n\u001b[1;32m----> 5\u001b[1;33m \u001b[1;32mwhile\u001b[0m \u001b[0mgiven_list\u001b[0m\u001b[1;33m[\u001b[0m\u001b[0mi\u001b[0m\u001b[1;33m]\u001b[0m \u001b[1;33m>\u001b[0m \u001b[1;36m0\u001b[0m\u001b[1;33m:\u001b[0m\u001b[1;33m\u001b[0m\u001b[1;33m\u001b[0m\u001b[0m\n\u001b[0m\u001b[0;32m      6\u001b[0m     \u001b[0mtotal5\u001b[0m \u001b[1;33m+=\u001b[0m \u001b[0mgiven_list\u001b[0m\u001b[1;33m[\u001b[0m\u001b[0mi\u001b[0m\u001b[1;33m]\u001b[0m\u001b[1;33m\u001b[0m\u001b[1;33m\u001b[0m\u001b[0m\n\u001b[0;32m      7\u001b[0m     \u001b[0mi\u001b[0m \u001b[1;33m+=\u001b[0m \u001b[1;36m1\u001b[0m\u001b[1;33m\u001b[0m\u001b[1;33m\u001b[0m\u001b[0m\n",
      "\u001b[1;31mIndexError\u001b[0m: list index out of range"
     ]
    }
   ],
   "source": [
    "#what if there are no negative numbers? the code will give us an error\n",
    "given_list1 = [5,4,4,3,1]\n",
    "total5 = 0 \n",
    "i = 0\n",
    "while given_list[i] > 0:\n",
    "    total5 += given_list[i]\n",
    "    i += 1 \n",
    "print(total5)    \n",
    "#this is because it will we only have until index 4. if we have index 4, it will continue to run i += 1, \n",
    "#then we will have given_list[5] which is non-existent. therefore, we have a list index out of range. to tweak this, we will\n",
    "#write an additional line"
   ]
  },
  {
   "cell_type": "code",
   "execution_count": 17,
   "id": "e50e2481",
   "metadata": {},
   "outputs": [
    {
     "name": "stdout",
     "output_type": "stream",
     "text": [
      "17\n"
     ]
    }
   ],
   "source": [
    "given_list2 = [5,4,4,3,1]\n",
    "total6 = 0 \n",
    "i = 0\n",
    "while i < len(given_list2) and given_list2[i] > 0: #len is a built-in function that gives the length of the list\n",
    "    total6 += given_list2[i]\n",
    "    i += 1 \n",
    "print(total6)    "
   ]
  },
  {
   "cell_type": "code",
   "execution_count": 16,
   "id": "4834f17e",
   "metadata": {},
   "outputs": [
    {
     "name": "stdout",
     "output_type": "stream",
     "text": [
      "17\n"
     ]
    }
   ],
   "source": [
    "given_list3 = [5,4,4,3,1,-2,-3,-5]\n",
    "#ccan we add all positive numbers with the for loop instead of y loop? yes we can.\n",
    "total7 = 0\n",
    "for i in given_list3:\n",
    "    if i <= 0:\n",
    "        break  #it says that if i is less than or equal to 0, then break out of the loop. i denotes each element of the list.\n",
    "    total7 += i\n",
    "print(total7)"
   ]
  },
  {
   "cell_type": "code",
   "execution_count": 23,
   "id": "eb20122d",
   "metadata": {},
   "outputs": [
    {
     "name": "stdout",
     "output_type": "stream",
     "text": [
      "17\n"
     ]
    }
   ],
   "source": [
    "#break statement also works in while loops. we will add all positive numbers with the while loop.\n",
    "given_list4 = [5,4,4,3,1,-2,-3,-5]\n",
    "total8 = 0 \n",
    "i = 0\n",
    "while True: #the statement must be always true. Just write True because True is always true.\n",
    "    total8 += given_list4[i] #add the current element in the given_list4 to total8 \n",
    "    i += 1  #and increment i by 1 everytime\n",
    "    if given_list4[i] <= 0:\n",
    "        break\n",
    "print(total8)        "
   ]
  },
  {
   "cell_type": "code",
   "execution_count": null,
   "id": "413e264c",
   "metadata": {},
   "outputs": [],
   "source": []
  }
 ],
 "metadata": {
  "kernelspec": {
   "display_name": "Python 3",
   "language": "python",
   "name": "python3"
  },
  "language_info": {
   "codemirror_mode": {
    "name": "ipython",
    "version": 3
   },
   "file_extension": ".py",
   "mimetype": "text/x-python",
   "name": "python",
   "nbconvert_exporter": "python",
   "pygments_lexer": "ipython3",
   "version": "3.8.8"
  }
 },
 "nbformat": 4,
 "nbformat_minor": 5
}
