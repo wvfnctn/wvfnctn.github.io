{
 "cells": [
  {
   "cell_type": "code",
   "execution_count": 1,
   "id": "6663896e",
   "metadata": {},
   "outputs": [],
   "source": [
    "a = [\"banana\", \"apple\", \"microsoft\"]"
   ]
  },
  {
   "cell_type": "code",
   "execution_count": 2,
   "id": "d55097fb",
   "metadata": {},
   "outputs": [
    {
     "name": "stdout",
     "output_type": "stream",
     "text": [
      "banana\n",
      "apple\n",
      "microsoft\n"
     ]
    }
   ],
   "source": [
    "#what if we want to iterate through each element of this list? for example, to print each element, it will be cumbersome to do\n",
    "print(a[0])\n",
    "print(a[1])\n",
    "print(a[2])"
   ]
  },
  {
   "cell_type": "code",
   "execution_count": 3,
   "id": "4622b34a",
   "metadata": {},
   "outputs": [
    {
     "name": "stdout",
     "output_type": "stream",
     "text": [
      "banana\n",
      "apple\n",
      "microsoft\n"
     ]
    }
   ],
   "source": [
    "#we can use a for loop\n",
    "for element in a:\n",
    "    print(element)\n",
    "#it says that \"for each element in a, do the following: which is to print each element\""
   ]
  },
  {
   "cell_type": "code",
   "execution_count": 4,
   "id": "fab1a33e",
   "metadata": {},
   "outputs": [
    {
     "name": "stdout",
     "output_type": "stream",
     "text": [
      "banana\n",
      "banana\n",
      "apple\n",
      "apple\n",
      "microsoft\n",
      "microsoft\n"
     ]
    }
   ],
   "source": [
    "#we can have multiple statements\n",
    "for element in a:\n",
    "    print(element)\n",
    "    print(element)"
   ]
  },
  {
   "cell_type": "code",
   "execution_count": 5,
   "id": "d23a83dd",
   "metadata": {},
   "outputs": [
    {
     "name": "stdout",
     "output_type": "stream",
     "text": [
      "20\n",
      "10\n",
      "5\n"
     ]
    }
   ],
   "source": [
    "b = [20, 10, 5]\n",
    "#to print each element, we can use for loops. also, the word \"element\" is arbitrary\n",
    "for e in b:\n",
    "    print(e)"
   ]
  },
  {
   "cell_type": "code",
   "execution_count": 6,
   "id": "23e59c82",
   "metadata": {},
   "outputs": [
    {
     "name": "stdout",
     "output_type": "stream",
     "text": [
      "35\n"
     ]
    }
   ],
   "source": [
    "#what if we want to add each element in b? then define a new variable\n",
    "total = 0\n",
    "for e in b:\n",
    "    total = total + e\n",
    "print(total)    \n",
    "#what it does is that first, it will take the initial value of total which is 0. then the new value of total will be 0 + 20. \n",
    "#then it will take this value of total, and will be added to the next element so 20 + 10 \n",
    "#then 30 + 5"
   ]
  },
  {
   "cell_type": "code",
   "execution_count": 7,
   "id": "29f23340",
   "metadata": {},
   "outputs": [
    {
     "name": "stdout",
     "output_type": "stream",
     "text": [
      "[1, 2, 3, 4]\n"
     ]
    }
   ],
   "source": [
    "#if we want to find the sum of 1, 2, 3 and 4, we can create a new list [1, 2, 3, 4] or we can use the range function\n",
    "# range(1,5) means \"create a range of numbers starting from 1 through 5 but not including 5.\" to put it into a list\n",
    "c = list(range(1,5))\n",
    "print(c)"
   ]
  },
  {
   "cell_type": "code",
   "execution_count": 8,
   "id": "6712e746",
   "metadata": {},
   "outputs": [
    {
     "name": "stdout",
     "output_type": "stream",
     "text": [
      "10\n"
     ]
    }
   ],
   "source": [
    "#we can use this list in for loops. finding the sum, we get\n",
    "total_2 = 0\n",
    "for i in c:\n",
    "    total_2 = total_2 + i\n",
    "print(total_2)    "
   ]
  },
  {
   "cell_type": "code",
   "execution_count": 9,
   "id": "9328205a",
   "metadata": {},
   "outputs": [
    {
     "name": "stdout",
     "output_type": "stream",
     "text": [
      "10\n"
     ]
    }
   ],
   "source": [
    "#the shortcut is to write\n",
    "total_3 = 0\n",
    "for i in c:\n",
    "    total_3 += i #means \"the new value of total_3 should be the sum of the old value of total_3 plus i\"\n",
    "print(total_3)    "
   ]
  },
  {
   "cell_type": "code",
   "execution_count": 10,
   "id": "6ad9ffc2",
   "metadata": {},
   "outputs": [
    {
     "name": "stdout",
     "output_type": "stream",
     "text": [
      "[1, 2, 3, 4, 5, 6, 7]\n"
     ]
    }
   ],
   "source": [
    "#what if we use range(1,8)\n",
    "print(list(range(1,8)))"
   ]
  },
  {
   "cell_type": "code",
   "execution_count": 11,
   "id": "66e3f17d",
   "metadata": {},
   "outputs": [
    {
     "name": "stdout",
     "output_type": "stream",
     "text": [
      "1\n"
     ]
    }
   ],
   "source": [
    "#what if we want to find the sum of only the multiples of 3? we have to introduce the modulo operator\n",
    "print(4 % 3) #the modulo operator gives us the remainder"
   ]
  },
  {
   "cell_type": "code",
   "execution_count": 12,
   "id": "5a9768a3",
   "metadata": {},
   "outputs": [
    {
     "name": "stdout",
     "output_type": "stream",
     "text": [
      "9\n"
     ]
    }
   ],
   "source": [
    "total_4 = 0\n",
    "for i in list(range(1,8)):\n",
    "    if i % 3 == 0:\n",
    "        total_4 += i\n",
    "    else:\n",
    "        total_4 += 0\n",
    "print(total_4)    \n",
    "\n",
    "#HOLY FUCK I REALLY DID THIS CODE WITHOUT ANY HELP??????"
   ]
  },
  {
   "cell_type": "code",
   "execution_count": 13,
   "id": "f8d8e57d",
   "metadata": {},
   "outputs": [
    {
     "name": "stdout",
     "output_type": "stream",
     "text": [
      "9\n"
     ]
    }
   ],
   "source": [
    "#Alternatively, we can ignore the else statemnt\n",
    "total_5 = 0\n",
    "for i in list(range(1,8)):\n",
    "    if i % 3 == 0:\n",
    "        total_5 += i\n",
    "print(total_5)  "
   ]
  },
  {
   "cell_type": "code",
   "execution_count": 15,
   "id": "831f38e1",
   "metadata": {},
   "outputs": [
    {
     "name": "stdout",
     "output_type": "stream",
     "text": [
      "2318\n"
     ]
    }
   ],
   "source": [
    "#to compute all multiples of 3 and 5 that are less than 100\n",
    "total_6 = 0\n",
    "for i in list(range(1,100)):\n",
    "    if i % 3 == 0:\n",
    "        total_6 += i\n",
    "    elif i % 5 == 0:\n",
    "        total_6 += i\n",
    "    elif i % 15 == 0:\n",
    "        total_6 = total_6 - i\n",
    "print(total_6)        "
   ]
  },
  {
   "cell_type": "code",
   "execution_count": 17,
   "id": "ba2aed0f",
   "metadata": {},
   "outputs": [
    {
     "name": "stdout",
     "output_type": "stream",
     "text": [
      "2318\n"
     ]
    }
   ],
   "source": [
    "#note that if a number that is both multiples of 3 and 5 (which are multiples of 15) are only added once\n",
    "#so the second elif is not necessary\n",
    "total_6 = 0\n",
    "for i in list(range(1,100)):\n",
    "    if i % 3 == 0:\n",
    "        total_6 += i\n",
    "    elif i % 5 == 0:\n",
    "        total_6 += i\n",
    "print(total_6)        "
   ]
  },
  {
   "cell_type": "code",
   "execution_count": null,
   "id": "520da1ed",
   "metadata": {},
   "outputs": [],
   "source": []
  }
 ],
 "metadata": {
  "kernelspec": {
   "display_name": "Python 3",
   "language": "python",
   "name": "python3"
  },
  "language_info": {
   "codemirror_mode": {
    "name": "ipython",
    "version": 3
   },
   "file_extension": ".py",
   "mimetype": "text/x-python",
   "name": "python",
   "nbconvert_exporter": "python",
   "pygments_lexer": "ipython3",
   "version": "3.8.8"
  }
 },
 "nbformat": 4,
 "nbformat_minor": 5
}
