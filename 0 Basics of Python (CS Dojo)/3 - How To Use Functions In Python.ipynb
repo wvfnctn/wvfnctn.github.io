{
 "cells": [
  {
   "cell_type": "code",
   "execution_count": 1,
   "id": "acf2acee",
   "metadata": {},
   "outputs": [
    {
     "name": "stdout",
     "output_type": "stream",
     "text": [
      "this is outside the function\n"
     ]
    }
   ],
   "source": [
    "#functions are collections of instructions/code\n",
    "def function1(): #this means define the following function and give it a name function1. we can give it any name\n",
    "    print(\"ahhhh\")\n",
    "    print(\"ahhhh 2\")\n",
    "print(\"this is outside the function\")"
   ]
  },
  {
   "cell_type": "code",
   "execution_count": 2,
   "id": "6b7ea1e9",
   "metadata": {},
   "outputs": [
    {
     "name": "stdout",
     "output_type": "stream",
     "text": [
      "ahhhh\n",
      "ahhhh 2\n"
     ]
    }
   ],
   "source": [
    "#function1 is just defined. it will not be executed unless we use/call this function. in order to run it, we should type\n",
    "function1()"
   ]
  },
  {
   "cell_type": "code",
   "execution_count": 3,
   "id": "b76762bd",
   "metadata": {},
   "outputs": [
    {
     "name": "stdout",
     "output_type": "stream",
     "text": [
      "ahhhh\n",
      "ahhhh 2\n",
      "ahhhh\n",
      "ahhhh 2\n"
     ]
    }
   ],
   "source": [
    "#it can be run twice \n",
    "function1()\n",
    "function1()"
   ]
  },
  {
   "cell_type": "code",
   "execution_count": 5,
   "id": "3712627d",
   "metadata": {},
   "outputs": [],
   "source": [
    "#a function can also be a mapping\n",
    "def function2(x):\n",
    "    return 2*x\n",
    "#this can be read as define a function called function2, which is going to take an input or an argument called x\n",
    "#and in return to whoever called this function, it will give 2*x\n",
    "#we are mapping the input x to the output 2*x"
   ]
  },
  {
   "cell_type": "code",
   "execution_count": 8,
   "id": "2b22cb0d",
   "metadata": {},
   "outputs": [],
   "source": [
    "#we will try to execute it\n",
    "a = function2(3)\n",
    "#this is a return value"
   ]
  },
  {
   "cell_type": "code",
   "execution_count": 9,
   "id": "736b45d3",
   "metadata": {},
   "outputs": [
    {
     "name": "stdout",
     "output_type": "stream",
     "text": [
      "6\n"
     ]
    }
   ],
   "source": [
    "print(a)"
   ]
  },
  {
   "cell_type": "code",
   "execution_count": 10,
   "id": "675ba458",
   "metadata": {},
   "outputs": [
    {
     "name": "stdout",
     "output_type": "stream",
     "text": [
      "8\n"
     ]
    }
   ],
   "source": [
    "b = function2(4)\n",
    "print(b)"
   ]
  },
  {
   "cell_type": "code",
   "execution_count": 11,
   "id": "45d2fe68",
   "metadata": {},
   "outputs": [
    {
     "name": "stdout",
     "output_type": "stream",
     "text": [
      "10\n"
     ]
    }
   ],
   "source": [
    "c = function2(5)\n",
    "print(c)"
   ]
  },
  {
   "cell_type": "code",
   "execution_count": 12,
   "id": "e8ef670c",
   "metadata": {},
   "outputs": [
    {
     "ename": "TypeError",
     "evalue": "function2() missing 1 required positional argument: 'x'",
     "output_type": "error",
     "traceback": [
      "\u001b[1;31m---------------------------------------------------------------------------\u001b[0m",
      "\u001b[1;31mTypeError\u001b[0m                                 Traceback (most recent call last)",
      "\u001b[1;32m<ipython-input-12-d90831d5b470>\u001b[0m in \u001b[0;36m<module>\u001b[1;34m\u001b[0m\n\u001b[0;32m      1\u001b[0m \u001b[1;31m#if there is no input, it will give us an error\u001b[0m\u001b[1;33m\u001b[0m\u001b[1;33m\u001b[0m\u001b[1;33m\u001b[0m\u001b[0m\n\u001b[1;32m----> 2\u001b[1;33m \u001b[0md\u001b[0m \u001b[1;33m=\u001b[0m \u001b[0mfunction2\u001b[0m\u001b[1;33m(\u001b[0m\u001b[1;33m)\u001b[0m\u001b[1;33m\u001b[0m\u001b[1;33m\u001b[0m\u001b[0m\n\u001b[0m\u001b[0;32m      3\u001b[0m \u001b[0mprint\u001b[0m\u001b[1;33m(\u001b[0m\u001b[0md\u001b[0m\u001b[1;33m)\u001b[0m\u001b[1;33m\u001b[0m\u001b[1;33m\u001b[0m\u001b[0m\n",
      "\u001b[1;31mTypeError\u001b[0m: function2() missing 1 required positional argument: 'x'"
     ]
    }
   ],
   "source": [
    "#if there is no input, it will give us an error\n",
    "d = function2()\n",
    "print(d)"
   ]
  },
  {
   "cell_type": "code",
   "execution_count": 13,
   "id": "0a044a3f",
   "metadata": {},
   "outputs": [],
   "source": [
    "#it is possible to have multiple argument in a single function\n",
    "def function3(x,y):\n",
    "    return x + y"
   ]
  },
  {
   "cell_type": "code",
   "execution_count": 15,
   "id": "74062151",
   "metadata": {},
   "outputs": [
    {
     "name": "stdout",
     "output_type": "stream",
     "text": [
      "3\n"
     ]
    }
   ],
   "source": [
    "e = function3(1,2)\n",
    "print(e)"
   ]
  },
  {
   "cell_type": "code",
   "execution_count": 16,
   "id": "2abaa85d",
   "metadata": {},
   "outputs": [],
   "source": [
    "#we can use the function to be both a collection of code an a mapping\n",
    "def function4(x):\n",
    "    print(x)\n",
    "    print(\"still in this function\")\n",
    "    return 3*x"
   ]
  },
  {
   "cell_type": "code",
   "execution_count": 17,
   "id": "7a936ae4",
   "metadata": {},
   "outputs": [
    {
     "name": "stdout",
     "output_type": "stream",
     "text": [
      "4\n",
      "still in this function\n"
     ]
    }
   ],
   "source": [
    "f = function4(4)"
   ]
  },
  {
   "cell_type": "code",
   "execution_count": 18,
   "id": "54b0f908",
   "metadata": {},
   "outputs": [
    {
     "name": "stdout",
     "output_type": "stream",
     "text": [
      "12\n"
     ]
    }
   ],
   "source": [
    "print(f)"
   ]
  },
  {
   "cell_type": "code",
   "execution_count": 19,
   "id": "668d7bda",
   "metadata": {},
   "outputs": [],
   "source": [
    "def function5(some_argument):\n",
    "    print(some_argument)\n",
    "    print(\"weee\")\n",
    "#note that even though function5 is given an argument, it doesnt have a return value\n",
    "#also possible to say f = function5(4) but it doesnt matter since it wont have a value anyways bc no return value"
   ]
  },
  {
   "cell_type": "code",
   "execution_count": 20,
   "id": "25857df5",
   "metadata": {},
   "outputs": [
    {
     "name": "stdout",
     "output_type": "stream",
     "text": [
      "4\n",
      "weee\n"
     ]
    }
   ],
   "source": [
    "function5(4)"
   ]
  },
  {
   "cell_type": "code",
   "execution_count": 8,
   "id": "9a093a08",
   "metadata": {},
   "outputs": [],
   "source": [
    "#BMI calculator\n",
    "name1 = \"Adam\"\n",
    "height_m1 = 1.67\n",
    "weight_kg1 = 75\n",
    "\n",
    "name2 = \"Adam1\"\n",
    "height_m2 = 1.68\n",
    "weight_kg2 = 74\n",
    "\n",
    "name3 = \"Adam2\"\n",
    "height_m3 = 1.73\n",
    "weight_kg3 = 78"
   ]
  },
  {
   "cell_type": "code",
   "execution_count": 9,
   "id": "17437c47",
   "metadata": {},
   "outputs": [],
   "source": [
    "def bmi_calculator(name, height_m, weight_kg):\n",
    "    bmi = weight_kg / (height_m ** 2)\n",
    "    print(\"bmi: \")\n",
    "    print(bmi)\n",
    "    if bmi < 25:\n",
    "        return name + \" is not overweight\"\n",
    "    else:\n",
    "        return name + \" is overweight\""
   ]
  },
  {
   "cell_type": "code",
   "execution_count": 10,
   "id": "cbef4323",
   "metadata": {},
   "outputs": [
    {
     "name": "stdout",
     "output_type": "stream",
     "text": [
      "bmi: \n",
      "26.89232313815483\n",
      "bmi: \n",
      "26.218820861678008\n",
      "bmi: \n",
      "26.061679307694877\n"
     ]
    }
   ],
   "source": [
    "result1 = bmi_calculator(name1, height_m1, weight_kg1)\n",
    "result2 = bmi_calculator(name2, height_m2, weight_kg2)\n",
    "result3 = bmi_calculator(name3, height_m3, weight_kg3)"
   ]
  },
  {
   "cell_type": "code",
   "execution_count": 11,
   "id": "7025523b",
   "metadata": {},
   "outputs": [
    {
     "name": "stdout",
     "output_type": "stream",
     "text": [
      "Adam is overweight\n",
      "Adam1 is overweight\n",
      "Adam2 is overweight\n"
     ]
    }
   ],
   "source": [
    "print(result1)\n",
    "print(result2)\n",
    "print(result3)"
   ]
  },
  {
   "cell_type": "code",
   "execution_count": 21,
   "id": "8c9d2b89",
   "metadata": {},
   "outputs": [],
   "source": [
    "#attempt to make a conversion calculator\n",
    "def conv(kilometers):\n",
    "    miles = 0.62137119*kilometers\n",
    "    print(\"for\", kilometers, \"kilometers, we have\", miles, \"miles\")"
   ]
  },
  {
   "cell_type": "code",
   "execution_count": 22,
   "id": "e2d9c1dd",
   "metadata": {},
   "outputs": [
    {
     "name": "stdout",
     "output_type": "stream",
     "text": [
      "for 25 kilometers, we have 15.53427975 miles\n"
     ]
    }
   ],
   "source": [
    "conv(25)"
   ]
  },
  {
   "cell_type": "code",
   "execution_count": null,
   "id": "881445f6",
   "metadata": {},
   "outputs": [],
   "source": []
  }
 ],
 "metadata": {
  "kernelspec": {
   "display_name": "Python 3",
   "language": "python",
   "name": "python3"
  },
  "language_info": {
   "codemirror_mode": {
    "name": "ipython",
    "version": 3
   },
   "file_extension": ".py",
   "mimetype": "text/x-python",
   "name": "python",
   "nbconvert_exporter": "python",
   "pygments_lexer": "ipython3",
   "version": "3.8.8"
  }
 },
 "nbformat": 4,
 "nbformat_minor": 5
}
