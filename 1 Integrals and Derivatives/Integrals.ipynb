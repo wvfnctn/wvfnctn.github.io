{
 "cells": [
  {
   "cell_type": "code",
   "execution_count": 7,
   "source": [
    "#This is for the trapezoidal rule. I used Stewart's Single Variable Calculus to derive this code\r\n",
    "a_input = input('a =', )\r\n",
    "b_input = input('b =', )\r\n",
    "n_input = input('n =', )\r\n",
    "\r\n",
    "a = float(a_input)\r\n",
    "b = float(b_input)\r\n",
    "n = int(n_input)\r\n",
    "\r\n",
    "def f(x):\r\n",
    "    return x**4 - 2*x + 1\r\n",
    "\r\n",
    "delta_x = (b-a)/n\r\n",
    "\r\n",
    "f_sum = 0\r\n",
    "for i in range(1, n):\r\n",
    "    f_sum += f(a + i*delta_x)\r\n",
    "\r\n",
    "integral = delta_x*((1/2)*f(a) + (1/2)*f(b) + f_sum)\r\n",
    "print(integral)    "
   ],
   "outputs": [
    {
     "output_type": "stream",
     "name": "stdout",
     "text": [
      "4.4000106666656\n"
     ]
    }
   ],
   "metadata": {}
  },
  {
   "cell_type": "markdown",
   "source": [
    "This can be "
   ],
   "metadata": {}
  },
  {
   "cell_type": "code",
   "execution_count": 10,
   "source": [
    "#This is for the Simpson's Rule\r\n",
    "a_input = input('a =', )\r\n",
    "b_input = input('b =', )\r\n",
    "n_input = input('n =', )\r\n",
    "\r\n",
    "a = float(a_input)\r\n",
    "b = float(b_input)\r\n",
    "n = int(n_input)\r\n",
    "\r\n",
    "def f(x):\r\n",
    "    return x**4 - 2*x + 1\r\n",
    "\r\n",
    "delta_x = (b-a)/n\r\n",
    "\r\n",
    "f_odd = 0\r\n",
    "f_even = 0\r\n",
    "for i in range(1, n):\r\n",
    "    if i % 2 == 0:\r\n",
    "        f_even += f(a + i*delta_x)\r\n",
    "    else:\r\n",
    "        f_odd += f(a + i*delta_x)   \r\n",
    "\r\n",
    "integral = (1/3)*delta_x*(f(a) + f(b) + 4*f_odd + 2*f_even)\r\n",
    "print(integral)    "
   ],
   "outputs": [
    {
     "output_type": "stream",
     "name": "stdout",
     "text": [
      "4.399999999999984\n"
     ]
    }
   ],
   "metadata": {}
  },
  {
   "cell_type": "code",
   "execution_count": null,
   "source": [],
   "outputs": [],
   "metadata": {}
  }
 ],
 "metadata": {
  "orig_nbformat": 4,
  "language_info": {
   "name": "python",
   "version": "3.8.8",
   "mimetype": "text/x-python",
   "codemirror_mode": {
    "name": "ipython",
    "version": 3
   },
   "pygments_lexer": "ipython3",
   "nbconvert_exporter": "python",
   "file_extension": ".py"
  },
  "kernelspec": {
   "name": "python3",
   "display_name": "Python 3.8.8 64-bit ('base': conda)"
  },
  "interpreter": {
   "hash": "b3ba2566441a7c06988d0923437866b63cedc61552a5af99d1f4fb67d367b25f"
  }
 },
 "nbformat": 4,
 "nbformat_minor": 2
}